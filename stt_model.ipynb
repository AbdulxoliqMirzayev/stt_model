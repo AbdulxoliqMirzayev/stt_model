{
  "metadata": {
    "kernelspec": {
      "display_name": "Python 3",
      "language": "python",
      "name": "python3"
    },
    "language_info": {
      "name": "python",
      "version": "3.10.12",
      "mimetype": "text/x-python",
      "codemirror_mode": {
        "name": "ipython",
        "version": 3
      },
      "pygments_lexer": "ipython3",
      "nbconvert_exporter": "python",
      "file_extension": ".py"
    },
    "accelerator": "GPU",
    "colab": {
      "gpuType": "T4",
      "provenance": [],
      "include_colab_link": true
    },
    "kaggle": {
      "accelerator": "gpu",
      "dataSources": [
        {
          "sourceId": 10793995,
          "sourceType": "datasetVersion",
          "datasetId": 6698677
        },
        {
          "sourceId": 10794026,
          "sourceType": "datasetVersion",
          "datasetId": 6698703
        }
      ],
      "dockerImageVersionId": 30887,
      "isInternetEnabled": true,
      "language": "python",
      "sourceType": "notebook",
      "isGpuEnabled": true
    }
  },
  "nbformat_minor": 0,
  "nbformat": 4,
  "cells": [
    {
      "cell_type": "markdown",
      "metadata": {
        "id": "view-in-github",
        "colab_type": "text"
      },
      "source": [
        "<a href=\"https://colab.research.google.com/github/AbdulxoliqMirzayev/stt_model/blob/main/stt_model.ipynb\" target=\"_parent\"><img src=\"https://colab.research.google.com/assets/colab-badge.svg\" alt=\"Open In Colab\"/></a>"
      ]
    },
    {
      "cell_type": "markdown",
      "source": [
        "Bizdagi GPU ishlayotganini tekshiramiz"
      ],
      "metadata": {
        "id": "9abea5d7-9d54-434b-a6bd-399d1b3c6c1a"
      }
    },
    {
      "cell_type": "code",
      "source": [
        "!pip install --upgrade --quiet pip\n",
        "!pip install --upgrade --quiet datasets[audio] transformers accelerate evaluate jiwer tensorboard gradio"
      ],
      "metadata": {
        "execution": {
          "iopub.status.busy": "2025-02-19T08:12:23.986885Z",
          "iopub.execute_input": "2025-02-19T08:12:23.987234Z",
          "iopub.status.idle": "2025-02-19T08:12:50.726235Z",
          "shell.execute_reply.started": "2025-02-19T08:12:23.987209Z",
          "shell.execute_reply": "2025-02-19T08:12:50.725391Z"
        },
        "id": "e68ea9f8-9b61-414e-8885-3033b67c2850",
        "trusted": true,
        "collapsed": true,
        "jupyter": {
          "outputs_hidden": true
        }
      },
      "outputs": [],
      "execution_count": null
    },
    {
      "cell_type": "code",
      "source": [
        "from huggingface_hub import notebook_login\n",
        "\n",
        "notebook_login()"
      ],
      "metadata": {
        "execution": {
          "iopub.status.busy": "2025-02-19T08:13:11.603690Z",
          "iopub.execute_input": "2025-02-19T08:13:11.604008Z",
          "iopub.status.idle": "2025-02-19T08:13:12.047079Z",
          "shell.execute_reply.started": "2025-02-19T08:13:11.603968Z",
          "shell.execute_reply": "2025-02-19T08:13:12.046177Z"
        },
        "id": "b045a39e-2a3e-4153-bdb5-281500bcd348",
        "trusted": true,
        "jupyter": {
          "outputs_hidden": true
        }
      },
      "outputs": [],
      "execution_count": null
    },
    {
      "cell_type": "markdown",
      "source": [
        "### Load Dataset"
      ],
      "metadata": {
        "id": "b219c9dd-39b6-4a95-b2a1-3f547a1e7bc0"
      }
    },
    {
      "cell_type": "markdown",
      "source": [
        "Birinchi muhim qadam sifatida biz kerakli datasetni yuklab olishimiz kerak bo'ladi, Biz  DavronSherbaev/uzbekvoice-filtered datasetini ishlatamiz (O'zbek tilida)\n",
        "\n",
        "Dataset ancha katta, shuning uchun biz uning bir qismidan foydalanamiz"
      ],
      "metadata": {
        "id": "674429c5-0ab4-4adf-975b-621bb69eca38"
      }
    },
    {
      "cell_type": "code",
      "source": [
        "from datasets import load_dataset, DatasetDict\n",
        "\n",
        "common_voice = DatasetDict()\n",
        "\n",
        "common_voice[\"train\"] = load_dataset(\"DavronSherbaev/uzbekvoice-filtered\", split=\"train[35000:49000]\")\n",
        "common_voice[\"test\"] = load_dataset(\"DavronSherbaev/uzbekvoice-filtered\", split=\"train[49000:50000]\")\n",
        "\n",
        "print(common_voice)"
      ],
      "metadata": {
        "execution": {
          "iopub.status.busy": "2025-02-19T08:13:29.048374Z",
          "iopub.execute_input": "2025-02-19T08:13:29.048730Z",
          "iopub.status.idle": "2025-02-19T08:20:43.174009Z",
          "shell.execute_reply.started": "2025-02-19T08:13:29.048691Z",
          "shell.execute_reply": "2025-02-19T08:20:43.173315Z"
        },
        "id": "oI7QGGx5AAM4",
        "trusted": true,
        "collapsed": true,
        "jupyter": {
          "outputs_hidden": true
        }
      },
      "outputs": [],
      "execution_count": null
    },
    {
      "cell_type": "markdown",
      "source": [
        "Biz o'zimizga kerakli bo'lgan ma'lumotlarnigina qoldiramiz"
      ],
      "metadata": {
        "id": "d5c7c3d6-7197-41e7-a088-49b753c1681f"
      }
    },
    {
      "cell_type": "code",
      "source": [
        "common_voice = common_voice.remove_columns(['previous_text', 'id', 'client_id', 'duration', 'sentence', 'created_at', 'original_sentence_id', 'sentence_clips_count', 'upvotes_count', 'downvotes_count', 'reported_count', 'reported_reasons', 'skipped_clips', 'gender', 'accent_region', 'native_language', 'year_of_birth'])\n",
        "\n",
        "print(common_voice)"
      ],
      "metadata": {
        "execution": {
          "iopub.status.busy": "2025-02-19T08:21:05.190292Z",
          "iopub.execute_input": "2025-02-19T08:21:05.190806Z",
          "iopub.status.idle": "2025-02-19T08:21:05.204058Z",
          "shell.execute_reply.started": "2025-02-19T08:21:05.190779Z",
          "shell.execute_reply": "2025-02-19T08:21:05.203196Z"
        },
        "id": "JUCyXMJbAAM4",
        "trusted": true,
        "collapsed": true,
        "jupyter": {
          "outputs_hidden": true
        }
      },
      "outputs": [],
      "execution_count": null
    },
    {
      "cell_type": "code",
      "source": [
        "common_voice[\"train\"] = common_voice[\"train\"].shuffle(seed=42)\n",
        "common_voice[\"test\"] = common_voice[\"test\"].shuffle(seed=42)"
      ],
      "metadata": {
        "execution": {
          "iopub.status.busy": "2025-02-19T08:21:08.845301Z",
          "iopub.execute_input": "2025-02-19T08:21:08.845719Z",
          "iopub.status.idle": "2025-02-19T08:21:08.865478Z",
          "shell.execute_reply.started": "2025-02-19T08:21:08.845685Z",
          "shell.execute_reply": "2025-02-19T08:21:08.864645Z"
        },
        "trusted": true,
        "id": "oUegvfD-rXCD"
      },
      "outputs": [],
      "execution_count": null
    },
    {
      "cell_type": "markdown",
      "source": [
        "## Prepare Feature Extractor, Tokenizer and Data"
      ],
      "metadata": {
        "id": "2d63b2d2-f68a-4d74-b7f1-5127f6d16605"
      }
    },
    {
      "cell_type": "markdown",
      "source": [
        "\n",
        "Jarayoni uch bosqichga bo'linadi:\n",
        "\n",
        "- Xom audio ma'lumotlarni oldindan ishlovchi **feature extractor**.\n",
        "- Ma'lumotni ketma-ketlikka moslovchi **model**.\n",
        "- Model chiqishlarini matn formatiga o'tkazuvchi **tokenizer**.\n",
        "\n",
        "Transformers kutubxonasida Whisper modeli uchun maxsus WhisperFeatureExtractor va WhisperTokenizer mavjud."
      ],
      "metadata": {
        "id": "601c3099-1026-439e-93e2-5635b3ba5a73"
      }
    },
    {
      "cell_type": "markdown",
      "source": [
        "### Load WhisperFeatureExtractor"
      ],
      "metadata": {
        "id": "560332eb-3558-41a1-b500-e83a9f695f84"
      }
    },
    {
      "cell_type": "code",
      "source": [
        "# import transformers\n",
        "# transformers.utils.move_cache()"
      ],
      "metadata": {
        "execution": {
          "iopub.status.busy": "2025-02-19T08:21:24.456616Z",
          "iopub.execute_input": "2025-02-19T08:21:24.456939Z",
          "iopub.status.idle": "2025-02-19T08:21:24.460673Z",
          "shell.execute_reply.started": "2025-02-19T08:21:24.456912Z",
          "shell.execute_reply": "2025-02-19T08:21:24.459647Z"
        },
        "id": "gxpyhU5WAAM5",
        "trusted": true
      },
      "outputs": [],
      "execution_count": null
    },
    {
      "cell_type": "code",
      "source": [
        "from transformers import WhisperFeatureExtractor\n",
        "\n",
        "feature_extractor = WhisperFeatureExtractor.from_pretrained(\"openai/whisper-base\")"
      ],
      "metadata": {
        "execution": {
          "iopub.status.busy": "2025-02-19T08:21:27.082878Z",
          "iopub.execute_input": "2025-02-19T08:21:27.083305Z",
          "iopub.status.idle": "2025-02-19T08:21:28.222137Z",
          "shell.execute_reply.started": "2025-02-19T08:21:27.083275Z",
          "shell.execute_reply": "2025-02-19T08:21:28.221220Z"
        },
        "id": "bc77d7bb-f9e2-47f5-b663-30f7a4321ce5",
        "trusted": true
      },
      "outputs": [],
      "execution_count": null
    },
    {
      "cell_type": "markdown",
      "source": [
        "### Load WhisperTokenizer"
      ],
      "metadata": {
        "id": "93748af7-b917-4ecf-a0c8-7d89077ff9cb"
      }
    },
    {
      "cell_type": "code",
      "source": [
        "from transformers import WhisperTokenizer\n",
        "\n",
        "tokenizer = WhisperTokenizer.from_pretrained(\"openai/whisper-base\", language=\"uzbek\", task=\"transcribe\")"
      ],
      "metadata": {
        "execution": {
          "iopub.status.busy": "2025-02-19T08:21:53.890348Z",
          "iopub.execute_input": "2025-02-19T08:21:53.890663Z",
          "iopub.status.idle": "2025-02-19T08:21:56.974973Z",
          "shell.execute_reply.started": "2025-02-19T08:21:53.890638Z",
          "shell.execute_reply": "2025-02-19T08:21:56.974025Z"
        },
        "id": "c7b07f9b-ae0e-4f89-98f0-0c50d432eab6",
        "trusted": true
      },
      "outputs": [],
      "execution_count": null
    },
    {
      "cell_type": "markdown",
      "source": [
        "### Combine To Create A WhisperProcessor"
      ],
      "metadata": {
        "id": "d2ef23f3-f4a8-483a-a2dc-080a7496cb1b"
      }
    },
    {
      "cell_type": "code",
      "source": [
        "from transformers import WhisperProcessor\n",
        "\n",
        "processor = WhisperProcessor.from_pretrained(\"openai/whisper-base\", language=\"uzbek\", task=\"transcribe\")"
      ],
      "metadata": {
        "execution": {
          "iopub.status.busy": "2025-02-19T08:22:00.642813Z",
          "iopub.execute_input": "2025-02-19T08:22:00.643238Z",
          "iopub.status.idle": "2025-02-19T08:22:04.413544Z",
          "shell.execute_reply.started": "2025-02-19T08:22:00.643207Z",
          "shell.execute_reply": "2025-02-19T08:22:04.412864Z"
        },
        "id": "77d9f0c5-8607-4642-a8ac-c3ab2e223ea6",
        "trusted": true
      },
      "outputs": [],
      "execution_count": null
    },
    {
      "cell_type": "markdown",
      "source": [
        "### Prepare Data"
      ],
      "metadata": {
        "id": "381acd09-0b0f-4d04-9eb3-f028ac0e5f2c"
      }
    },
    {
      "cell_type": "markdown",
      "source": [
        "Navbat ma'lumotlarni tozalash qismiga, keling avval datasetdan bir ma'lumotni ko'raylik"
      ],
      "metadata": {
        "id": "9649bf01-2e8a-45e5-8fca-441c13637b8f"
      }
    },
    {
      "cell_type": "code",
      "source": [
        "print(common_voice[\"train\"][0])"
      ],
      "metadata": {
        "execution": {
          "iopub.status.busy": "2025-02-19T08:22:10.102172Z",
          "iopub.execute_input": "2025-02-19T08:22:10.102699Z",
          "iopub.status.idle": "2025-02-19T08:22:22.541618Z",
          "shell.execute_reply.started": "2025-02-19T08:22:10.102670Z",
          "shell.execute_reply": "2025-02-19T08:22:22.540823Z"
        },
        "id": "6e6b0ec5-0c94-4e2c-ae24-c791be1b2255",
        "trusted": true
      },
      "outputs": [],
      "execution_count": null
    },
    {
      "cell_type": "markdown",
      "source": [
        "`cast_column` metodida foydalanamiz va audioning `sampling_rate`ini o'zgaritishimiz kerak, chunki whisper modeli 16 kHz ma'lumot uchun ishlay oladi"
      ],
      "metadata": {
        "id": "5a679f05-063d-41b3-9b58-4fc9c6ccf4fd"
      }
    },
    {
      "cell_type": "code",
      "source": [
        "from datasets import Audio\n",
        "\n",
        "common_voice = common_voice.cast_column(\"path\", Audio(sampling_rate=16000))"
      ],
      "metadata": {
        "execution": {
          "iopub.status.busy": "2025-02-19T08:22:29.051382Z",
          "iopub.execute_input": "2025-02-19T08:22:29.051936Z",
          "iopub.status.idle": "2025-02-19T08:22:29.062741Z",
          "shell.execute_reply.started": "2025-02-19T08:22:29.051909Z",
          "shell.execute_reply": "2025-02-19T08:22:29.062066Z"
        },
        "id": "f12e2e57-156f-417b-8cfb-69221cc198e8",
        "trusted": true
      },
      "outputs": [],
      "execution_count": null
    },
    {
      "cell_type": "markdown",
      "source": [
        "Keling endi shu ma'lumotni qayta ko'ramiz"
      ],
      "metadata": {
        "id": "00382a3e-abec-4cdd-a54c-d1aaa3ea4707"
      }
    },
    {
      "cell_type": "code",
      "source": [
        "print(common_voice[\"train\"][0])"
      ],
      "metadata": {
        "execution": {
          "iopub.status.busy": "2025-02-19T08:22:34.026398Z",
          "iopub.execute_input": "2025-02-19T08:22:34.026715Z",
          "iopub.status.idle": "2025-02-19T08:22:34.033932Z",
          "shell.execute_reply.started": "2025-02-19T08:22:34.026694Z",
          "shell.execute_reply": "2025-02-19T08:22:34.033199Z"
        },
        "id": "hD1pZBtgAAM6",
        "trusted": true
      },
      "outputs": [],
      "execution_count": null
    },
    {
      "cell_type": "markdown",
      "source": [
        "Model uchun ma'lumot tayyorlash:\n",
        "\n",
        "- Audio yuklanadi va qayta namuna olinadi.\n",
        "- Log-Mel spektrogram xususiyatlari olinadi.\n",
        "- Transkripsiyalar label IDlarga kodlanadi.\n",
        "\n",
        "\n",
        "\n",
        "\n",
        "\n"
      ],
      "metadata": {
        "id": "91edc72d-08f8-4f01-899d-74e65ce441fc"
      }
    },
    {
      "cell_type": "code",
      "source": [
        "def prepare_dataset(batch):\n",
        "\n",
        "    audio = batch[\"path\"]\n",
        "    batch[\"input_features\"] = feature_extractor(audio[\"array\"], sampling_rate=audio[\"sampling_rate\"]).input_features[0]\n",
        "    batch[\"labels\"] = tokenizer(batch[\"text\"]).input_ids\n",
        "\n",
        "    return batch"
      ],
      "metadata": {
        "execution": {
          "iopub.status.busy": "2025-02-19T08:22:38.428926Z",
          "iopub.execute_input": "2025-02-19T08:22:38.429318Z",
          "iopub.status.idle": "2025-02-19T08:22:38.433948Z",
          "shell.execute_reply.started": "2025-02-19T08:22:38.429279Z",
          "shell.execute_reply": "2025-02-19T08:22:38.433117Z"
        },
        "id": "6525c478-8962-4394-a1c4-103c54cce170",
        "trusted": true
      },
      "outputs": [],
      "execution_count": null
    },
    {
      "cell_type": "markdown",
      "source": [
        "**Bizda `num_proc` parametri muhim parametr hisoblanadi ya'ni bu bizga multi-processing imkonini beradi. Uni to'g'ri tanlash uchun biz cpu yadrolari soni aniqlashimiz kerak va shunga teng bo'lgan qiymat tanlaymiz**"
      ],
      "metadata": {
        "id": "V9snS03Qenmg"
      }
    },
    {
      "cell_type": "code",
      "source": [
        "import os\n",
        "print(os.cpu_count())"
      ],
      "metadata": {
        "execution": {
          "iopub.status.busy": "2025-02-19T08:22:45.437364Z",
          "iopub.execute_input": "2025-02-19T08:22:45.437655Z",
          "iopub.status.idle": "2025-02-19T08:22:45.442194Z",
          "shell.execute_reply.started": "2025-02-19T08:22:45.437634Z",
          "shell.execute_reply": "2025-02-19T08:22:45.441301Z"
        },
        "id": "rXLJ5E4beO6C",
        "trusted": true
      },
      "outputs": [],
      "execution_count": null
    },
    {
      "cell_type": "markdown",
      "source": [
        "`.map` metodi orqali ma'lumotni tayyorlaymiz.\n",
        "\n",
        "Jarayon biroz vaqt oladi"
      ],
      "metadata": {
        "id": "70b319fb-2439-4ef6-a70d-a47bf41c4a13"
      }
    },
    {
      "cell_type": "code",
      "source": [
        "common_voice = common_voice.map(prepare_dataset,remove_columns=common_voice.column_names[\"train\"],  num_proc=4 )"
      ],
      "metadata": {
        "execution": {
          "iopub.status.busy": "2025-02-19T08:22:49.175157Z",
          "iopub.execute_input": "2025-02-19T08:22:49.175465Z",
          "iopub.status.idle": "2025-02-19T08:26:48.537908Z",
          "shell.execute_reply.started": "2025-02-19T08:22:49.175444Z",
          "shell.execute_reply": "2025-02-19T08:26:48.537068Z"
        },
        "id": "7b73ab39-ffaf-4b9e-86e5-782963c6134b",
        "trusted": true
      },
      "outputs": [],
      "execution_count": null
    },
    {
      "cell_type": "markdown",
      "source": [
        "## Training and Evaluation"
      ],
      "metadata": {
        "id": "263a5a58-0239-4a25-b0df-c625fc9c5810"
      }
    },
    {
      "cell_type": "markdown",
      "source": [
        "Endi ma'lumot tayyorlandi, trening jarayoniga o'tamiz.\n",
        "Qadamlar:\n",
        "\n",
        "- **Pre-trained checkpoint yuklash**: modelni to'g'ri o'rnatish va treningga tayyorlash.\n",
        "- **Data collator aniqlash**: oldindan ishlov berilgan ma'lumotlarni PyTorch tensorga tayyorlash.\n",
        "- **Baholash metrikalari**: WER (word error rate) metrikasidan foydalanib, modelni baholash.\n",
        "- **Treaning konfiguratsiyasini belgilash**: Trainer uchun trening jadvalini aniqlash.\n",
        "Fine-tune qilingan modelni sinov ma'lumotlari ustida baholash"
      ],
      "metadata": {
        "id": "a693e768-c5a6-453f-89a1-b601dcf7daf7"
      }
    },
    {
      "cell_type": "markdown",
      "source": [
        "## Load a Model"
      ],
      "metadata": {
        "id": "daf2a825-6d9f-4a23-b145-c37c0039075b"
      }
    },
    {
      "cell_type": "code",
      "source": [
        "from transformers import WhisperForConditionalGeneration\n",
        "\n",
        "model = WhisperForConditionalGeneration.from_pretrained(\"openai/whisper-base\")"
      ],
      "metadata": {
        "execution": {
          "iopub.status.busy": "2025-02-19T08:29:27.583188Z",
          "iopub.execute_input": "2025-02-19T08:29:27.584044Z",
          "iopub.status.idle": "2025-02-19T08:29:29.581788Z",
          "shell.execute_reply.started": "2025-02-19T08:29:27.584013Z",
          "shell.execute_reply": "2025-02-19T08:29:29.580891Z"
        },
        "id": "5a10cc4b-07ec-4ebd-ac1d-7c601023594f",
        "trusted": true
      },
      "outputs": [],
      "execution_count": null
    },
    {
      "cell_type": "markdown",
      "source": [
        "Inference paytida modelni faqat O'zbek tilida ishlashga moslashtirish uchun automatic speech recognationni o'chiramiz.\n",
        "\n",
        "\n",
        "\n",
        "---\n",
        "\n",
        "\n",
        "**Inference — bu modelni o'qitishdan so'ng, yangi ma'lumotlar bilan test qilish yoki undan natija olish jarayonidir. Masalan, modelni treningdan so'ng, unga audio yoki matn kiritib, modeldan javob olish (masalan, nutqni matnga aylantirish) inference deb ataladi.**"
      ],
      "metadata": {
        "id": "a15ead5f-2277-4a39-937b-585c2497b2df"
      }
    },
    {
      "cell_type": "code",
      "source": [
        "model.generation_config.language = \"uzbek\"\n",
        "model.generation_config.task = \"transcribe\"\n",
        "model.generation_config.forced_decoder_ids = None"
      ],
      "metadata": {
        "execution": {
          "iopub.status.busy": "2025-02-19T08:29:56.258636Z",
          "iopub.execute_input": "2025-02-19T08:29:56.259012Z",
          "iopub.status.idle": "2025-02-19T08:29:56.263135Z",
          "shell.execute_reply.started": "2025-02-19T08:29:56.258965Z",
          "shell.execute_reply": "2025-02-19T08:29:56.262220Z"
        },
        "id": "62038ba3-88ed-4fce-84db-338f50dcd04f",
        "trusted": true
      },
      "outputs": [],
      "execution_count": null
    },
    {
      "cell_type": "markdown",
      "source": [
        "### Define a Data Collator"
      ],
      "metadata": {
        "id": "8d230e6d-624c-400a-bbf5-fa660881df25"
      }
    },
    {
      "cell_type": "markdown",
      "source": [
        "Data collator `input_features` va `labels`ni alohida ishlaydi. `input_features`ni `feature extractor` bilan, `labels`ni esa `tokenizer` bilan qayta ishlaymiz."
      ],
      "metadata": {
        "id": "04def221-0637-4a69-b242-d3f0c1d0ee78"
      }
    },
    {
      "cell_type": "code",
      "source": [
        "import torch\n",
        "\n",
        "from dataclasses import dataclass\n",
        "from typing import Any, Dict, List, Union\n",
        "\n",
        "@dataclass\n",
        "class DataCollatorSpeechSeq2SeqWithPadding:\n",
        "    processor: Any\n",
        "    decoder_start_token_id: int\n",
        "\n",
        "    def __call__(self, features: List[Dict[str, Union[List[int], torch.Tensor]]]) -> Dict[str, torch.Tensor]:\n",
        "        # split inputs and labels since they have to be of different lengths and need different padding methods\n",
        "        # first treat the audio inputs by simply returning torch tensors\n",
        "        input_features = [{\"input_features\": feature[\"input_features\"]} for feature in features]\n",
        "        batch = self.processor.feature_extractor.pad(input_features, return_tensors=\"pt\")\n",
        "\n",
        "        # get the tokenized label sequences\n",
        "        label_features = [{\"input_ids\": feature[\"labels\"]} for feature in features]\n",
        "        # pad the labels to max length\n",
        "        labels_batch = self.processor.tokenizer.pad(label_features, return_tensors=\"pt\")\n",
        "\n",
        "        # replace padding with -100 to ignore loss correctly\n",
        "        labels = labels_batch[\"input_ids\"].masked_fill(labels_batch.attention_mask.ne(1), -100)\n",
        "\n",
        "        # if bos token is appended in previous tokenization step,\n",
        "        # cut bos token here as it's append later anyways\n",
        "        if (labels[:, 0] == self.decoder_start_token_id).all().cpu().item():\n",
        "            labels = labels[:, 1:]\n",
        "\n",
        "        batch[\"labels\"] = labels\n",
        "\n",
        "        return batch"
      ],
      "metadata": {
        "execution": {
          "iopub.status.busy": "2025-02-19T08:29:59.419380Z",
          "iopub.execute_input": "2025-02-19T08:29:59.419714Z",
          "iopub.status.idle": "2025-02-19T08:29:59.426883Z",
          "shell.execute_reply.started": "2025-02-19T08:29:59.419677Z",
          "shell.execute_reply": "2025-02-19T08:29:59.425885Z"
        },
        "id": "8326221e-ec13-4731-bb4e-51e5fc1486c5",
        "trusted": true
      },
      "outputs": [],
      "execution_count": null
    },
    {
      "cell_type": "code",
      "source": [
        "data_collator = DataCollatorSpeechSeq2SeqWithPadding(\n",
        "    processor=processor,\n",
        "    decoder_start_token_id=model.config.decoder_start_token_id,\n",
        ")"
      ],
      "metadata": {
        "execution": {
          "iopub.status.busy": "2025-02-19T08:30:04.065271Z",
          "iopub.execute_input": "2025-02-19T08:30:04.065609Z",
          "iopub.status.idle": "2025-02-19T08:30:04.069755Z",
          "shell.execute_reply.started": "2025-02-19T08:30:04.065584Z",
          "shell.execute_reply": "2025-02-19T08:30:04.068896Z"
        },
        "id": "fc834702-c0d3-4a96-b101-7b87be32bf42",
        "trusted": true
      },
      "outputs": [],
      "execution_count": null
    },
    {
      "cell_type": "markdown",
      "source": [
        "### Evaluation Metrics"
      ],
      "metadata": {
        "id": "d62bb2ab-750a-45e7-82e9-61d6f4805698"
      }
    },
    {
      "cell_type": "markdown",
      "source": [
        "Modelni baholash uchun standart bo'lib hisoblangan `word error rate (WER)`dan foydalanamiz"
      ],
      "metadata": {
        "id": "66fee1a7-a44c-461e-b047-c3917221572e"
      }
    },
    {
      "cell_type": "code",
      "source": [
        "import evaluate\n",
        "\n",
        "metric = evaluate.load(\"wer\")"
      ],
      "metadata": {
        "execution": {
          "iopub.status.busy": "2025-02-19T08:30:08.175387Z",
          "iopub.execute_input": "2025-02-19T08:30:08.175680Z",
          "iopub.status.idle": "2025-02-19T08:30:09.099588Z",
          "shell.execute_reply.started": "2025-02-19T08:30:08.175658Z",
          "shell.execute_reply": "2025-02-19T08:30:09.098680Z"
        },
        "id": "b22b4011-f31f-4b57-b684-c52332f92890",
        "trusted": true
      },
      "outputs": [],
      "execution_count": null
    },
    {
      "cell_type": "markdown",
      "source": [
        "`compute_metrics` funksiyasi -100ni `pad_token_id`ga almashtirib, `predict` va `label` IDlarini matnga decoding qiladi va WERni hisoblaydi."
      ],
      "metadata": {
        "id": "4f32cab6-31f0-4cb9-af4c-40ba0f5fc508"
      }
    },
    {
      "cell_type": "code",
      "source": [
        "def compute_metrics(pred):\n",
        "    pred_ids = pred.predictions\n",
        "    label_ids = pred.label_ids\n",
        "\n",
        "    label_ids[label_ids == -100] = tokenizer.pad_token_id\n",
        "\n",
        "    pred_str = tokenizer.batch_decode(pred_ids, skip_special_tokens=True)\n",
        "    label_str = tokenizer.batch_decode(label_ids, skip_special_tokens=True)\n",
        "\n",
        "    wer = 100 * metric.compute(predictions=pred_str, references=label_str)\n",
        "\n",
        "    return {\"wer\": wer}"
      ],
      "metadata": {
        "execution": {
          "iopub.status.busy": "2025-02-19T08:30:13.276057Z",
          "iopub.execute_input": "2025-02-19T08:30:13.276388Z",
          "iopub.status.idle": "2025-02-19T08:30:13.281349Z",
          "shell.execute_reply.started": "2025-02-19T08:30:13.276363Z",
          "shell.execute_reply": "2025-02-19T08:30:13.280302Z"
        },
        "id": "23959a70-22d0-4ffe-9fa1-72b61e75bb52",
        "trusted": true
      },
      "outputs": [],
      "execution_count": null
    },
    {
      "cell_type": "markdown",
      "source": [
        "### Define the Training Configuration"
      ],
      "metadata": {
        "id": "2178dea4-80ca-47b6-b6ea-ba1915c90c06"
      }
    },
    {
      "cell_type": "markdown",
      "source": [
        "Oxirgi qadam: Treaning uchun kerakli parametrlarni yozamiz"
      ],
      "metadata": {
        "id": "c21af1e9-0188-4134-ac82-defc7bdcc436"
      }
    },
    {
      "cell_type": "code",
      "source": [
        "from transformers import Seq2SeqTrainingArguments\n",
        "\n",
        "training_args = Seq2SeqTrainingArguments(\n",
        "    output_dir=\"./whisper-uz\",\n",
        "    per_device_train_batch_size=8,\n",
        "    gradient_accumulation_steps=2,\n",
        "    learning_rate=1e-5,\n",
        "    warmup_steps=500,\n",
        "    max_steps=2000,\n",
        "    gradient_checkpointing=True,\n",
        "    fp16=True,\n",
        "    evaluation_strategy=\"steps\",\n",
        "    per_device_eval_batch_size=8,\n",
        "    predict_with_generate=True,\n",
        "    generation_max_length=225,\n",
        "    save_steps=1000,\n",
        "    eval_steps=500,\n",
        "    logging_steps=25,\n",
        "    report_to=[\"tensorboard\"],\n",
        "    load_best_model_at_end=True,\n",
        "    metric_for_best_model=\"wer\",\n",
        "    greater_is_better=False,\n",
        "    push_to_hub=True,\n",
        ")"
      ],
      "metadata": {
        "execution": {
          "iopub.status.busy": "2025-02-19T08:30:18.083047Z",
          "iopub.execute_input": "2025-02-19T08:30:18.083342Z",
          "iopub.status.idle": "2025-02-19T08:30:18.219637Z",
          "shell.execute_reply.started": "2025-02-19T08:30:18.083322Z",
          "shell.execute_reply": "2025-02-19T08:30:18.218744Z"
        },
        "id": "0ae3e9af-97b7-4aa0-ae85-20b23b5bcb3a",
        "trusted": true,
        "collapsed": true,
        "jupyter": {
          "outputs_hidden": true
        }
      },
      "outputs": [],
      "execution_count": null
    },
    {
      "cell_type": "markdown",
      "source": [
        "Treaning argumentlarini trainerga, `model`, `dataset`, `data collator` va `compute_metrics` funksiyasi bilan birga uzatamiz:"
      ],
      "metadata": {
        "id": "bac29114-d226-4f54-97cf-8718c9f94e1e"
      }
    },
    {
      "cell_type": "code",
      "source": [
        "from transformers import Seq2SeqTrainer\n",
        "\n",
        "trainer = Seq2SeqTrainer(\n",
        "    args=training_args,\n",
        "    model=model,\n",
        "    train_dataset=common_voice[\"train\"],\n",
        "    eval_dataset=common_voice[\"test\"],\n",
        "    data_collator=data_collator,\n",
        "    compute_metrics=compute_metrics,\n",
        "    tokenizer=processor.feature_extractor,\n",
        ")"
      ],
      "metadata": {
        "_kg_hide-output": false,
        "execution": {
          "iopub.status.busy": "2025-02-19T08:30:22.909556Z",
          "iopub.execute_input": "2025-02-19T08:30:22.909852Z",
          "iopub.status.idle": "2025-02-19T08:30:24.698172Z",
          "shell.execute_reply.started": "2025-02-19T08:30:22.909831Z",
          "shell.execute_reply": "2025-02-19T08:30:24.697274Z"
        },
        "id": "d546d7fe-0543-479a-b708-2ebabec19493",
        "trusted": true,
        "collapsed": true,
        "jupyter": {
          "outputs_hidden": true
        }
      },
      "outputs": [],
      "execution_count": null
    },
    {
      "cell_type": "code",
      "source": [
        "import torch\n",
        "torch.cuda.empty_cache()"
      ],
      "metadata": {
        "execution": {
          "iopub.status.busy": "2025-02-19T08:30:27.822278Z",
          "iopub.execute_input": "2025-02-19T08:30:27.822616Z",
          "iopub.status.idle": "2025-02-19T08:30:27.826356Z",
          "shell.execute_reply.started": "2025-02-19T08:30:27.822589Z",
          "shell.execute_reply": "2025-02-19T08:30:27.825479Z"
        },
        "id": "Y690i9V7AAM_",
        "trusted": true
      },
      "outputs": [],
      "execution_count": null
    },
    {
      "cell_type": "markdown",
      "source": [
        "Treningni boshlashdan oldin, processor obyektini saqlab olish maslahat beriladi. U training jarayonida o'zgarmaydi"
      ],
      "metadata": {
        "id": "uOrRhDGtN5S4"
      }
    },
    {
      "cell_type": "code",
      "source": [
        "processor.save_pretrained(training_args.output_dir)"
      ],
      "metadata": {
        "execution": {
          "iopub.status.busy": "2025-02-19T08:30:30.783135Z",
          "iopub.execute_input": "2025-02-19T08:30:30.783467Z",
          "iopub.status.idle": "2025-02-19T08:30:31.194857Z",
          "shell.execute_reply.started": "2025-02-19T08:30:30.783444Z",
          "shell.execute_reply": "2025-02-19T08:30:31.194098Z"
        },
        "id": "-2zQwMfEOBJq",
        "trusted": true
      },
      "outputs": [],
      "execution_count": null
    },
    {
      "cell_type": "markdown",
      "source": [
        "### Training"
      ],
      "metadata": {
        "id": "7f404cf9-4345-468c-8196-4bd101d9bd51"
      }
    },
    {
      "cell_type": "code",
      "source": [
        "trainer.train()"
      ],
      "metadata": {
        "id": "ee8b7b8e-1c9a-4d77-9137-1778a629e6de",
        "trusted": true,
        "execution": {
          "iopub.status.busy": "2025-02-19T08:30:34.480876Z",
          "iopub.execute_input": "2025-02-19T08:30:34.481225Z",
          "iopub.status.idle": "2025-02-19T10:33:36.902622Z",
          "shell.execute_reply.started": "2025-02-19T08:30:34.481184Z",
          "shell.execute_reply": "2025-02-19T10:33:36.901890Z"
        },
        "outputId": "0eba9773-0ac8-4f40-a084-d074705b63cd"
      },
      "outputs": [
        {
          "name": "stderr",
          "text": "Passing a tuple of `past_key_values` is deprecated and will be removed in Transformers v4.43.0. You should pass an instance of `EncoderDecoderCache` instead, e.g. `past_key_values=EncoderDecoderCache.from_legacy_cache(past_key_values)`.\n`use_cache = True` is incompatible with gradient checkpointing. Setting `use_cache = False`...\n",
          "output_type": "stream"
        },
        {
          "output_type": "display_data",
          "data": {
            "text/plain": "<IPython.core.display.HTML object>",
            "text/html": "\n    <div>\n      \n      <progress value='2000' max='2000' style='width:300px; height:20px; vertical-align: middle;'></progress>\n      [2000/2000 2:02:45, Epoch 2/3]\n    </div>\n    <table border=\"1\" class=\"dataframe\">\n  <thead>\n <tr style=\"text-align: left;\">\n      <th>Step</th>\n      <th>Training Loss</th>\n      <th>Validation Loss</th>\n      <th>Wer</th>\n    </tr>\n  </thead>\n  <tbody>\n    <tr>\n      <td>500</td>\n      <td>0.584400</td>\n      <td>0.561094</td>\n      <td>48.880368</td>\n    </tr>\n    <tr>\n      <td>1000</td>\n      <td>0.260600</td>\n      <td>0.330639</td>\n      <td>32.453988</td>\n    </tr>\n    <tr>\n      <td>1500</td>\n      <td>0.233700</td>\n      <td>0.275608</td>\n      <td>27.990798</td>\n    </tr>\n    <tr>\n      <td>2000</td>\n      <td>0.146800</td>\n      <td>0.256811</td>\n      <td>26.165644</td>\n    </tr>\n  </tbody>\n</table><p>"
          },
          "metadata": {}
        },
        {
          "name": "stderr",
          "text": "You have passed task=transcribe, but also have set `forced_decoder_ids` to [[1, 50259], [2, 50359], [3, 50363]] which creates a conflict. `forced_decoder_ids` will be ignored in favor of task=transcribe.\nThe attention mask is not set and cannot be inferred from input because pad token is same as eos token. As a consequence, you may observe unexpected behavior. Please pass your input's `attention_mask` to obtain reliable results.\n/usr/local/lib/python3.10/dist-packages/transformers/modeling_utils.py:2810: UserWarning: Moving the following attributes in the config to the generation config: {'max_length': 448, 'suppress_tokens': [1, 2, 7, 8, 9, 10, 14, 25, 26, 27, 28, 29, 31, 58, 59, 60, 61, 62, 63, 90, 91, 92, 93, 359, 503, 522, 542, 873, 893, 902, 918, 922, 931, 1350, 1853, 1982, 2460, 2627, 3246, 3253, 3268, 3536, 3846, 3961, 4183, 4667, 6585, 6647, 7273, 9061, 9383, 10428, 10929, 11938, 12033, 12331, 12562, 13793, 14157, 14635, 15265, 15618, 16553, 16604, 18362, 18956, 20075, 21675, 22520, 26130, 26161, 26435, 28279, 29464, 31650, 32302, 32470, 36865, 42863, 47425, 49870, 50254, 50258, 50358, 50359, 50360, 50361, 50362], 'begin_suppress_tokens': [220, 50257]}. You are seeing this warning because you've set generation parameters in the model config, as opposed to in the generation config.\n  warnings.warn(\nThere were missing keys in the checkpoint model loaded: ['proj_out.weight'].\n",
          "output_type": "stream"
        },
        {
          "execution_count": 29,
          "output_type": "execute_result",
          "data": {
            "text/plain": "TrainOutput(global_step=2000, training_loss=0.5499511467218399, metrics={'train_runtime': 7371.1445, 'train_samples_per_second': 4.341, 'train_steps_per_second': 0.271, 'total_flos': 2.07551987712e+18, 'train_loss': 0.5499511467218399, 'epoch': 2.2857142857142856})"
          },
          "metadata": {}
        }
      ],
      "execution_count": null
    },
    {
      "cell_type": "markdown",
      "source": [
        "Endi modelni huggingfacega yuklaymiz"
      ],
      "metadata": {
        "id": "lF6SXn7TAANA"
      }
    },
    {
      "cell_type": "code",
      "source": [
        "kwargs = {\n",
        "    \"dataset_args\": \"config: uz, split: test\",\n",
        "    \"language\": \"uz\",\n",
        "    \"model_name\": \"Whisper base uz - AbdulxoliqMirzaev\",\n",
        "    \"tasks\": \"automatic-speech-recognition\",\n",
        "}"
      ],
      "metadata": {
        "execution": {
          "iopub.status.busy": "2025-02-19T11:21:42.145350Z",
          "iopub.execute_input": "2025-02-19T11:21:42.145650Z",
          "iopub.status.idle": "2025-02-19T11:21:42.149404Z",
          "shell.execute_reply.started": "2025-02-19T11:21:42.145627Z",
          "shell.execute_reply": "2025-02-19T11:21:42.148683Z"
        },
        "trusted": true,
        "id": "RXswmVtNrXCZ"
      },
      "outputs": [],
      "execution_count": null
    },
    {
      "cell_type": "markdown",
      "source": [
        " `push_to_hub` buyrug'idan foydalanamiz:"
      ],
      "metadata": {
        "id": "090d676a-f944-4297-a938-a40eda0b2b68"
      }
    },
    {
      "cell_type": "code",
      "source": [
        "trainer.push_to_hub(**kwargs)"
      ],
      "metadata": {
        "execution": {
          "iopub.status.busy": "2025-02-19T11:21:46.002924Z",
          "iopub.execute_input": "2025-02-19T11:21:46.003239Z",
          "iopub.status.idle": "2025-02-19T11:21:49.779487Z",
          "shell.execute_reply.started": "2025-02-19T11:21:46.003217Z",
          "shell.execute_reply": "2025-02-19T11:21:49.778755Z"
        },
        "trusted": true,
        "id": "jGzqMp-SrXCZ"
      },
      "outputs": [],
      "execution_count": null
    },
    {
      "cell_type": "markdown",
      "source": [
        "**TESTING**"
      ],
      "metadata": {
        "id": "0fNErWQGrXCZ"
      }
    },
    {
      "cell_type": "code",
      "source": [],
      "metadata": {
        "trusted": true,
        "id": "KjiZahI3rXCa"
      },
      "outputs": [],
      "execution_count": null
    },
    {
      "cell_type": "code",
      "source": [],
      "metadata": {
        "trusted": true,
        "id": "TbiHg8Q4rXCa"
      },
      "outputs": [],
      "execution_count": null
    },
    {
      "cell_type": "code",
      "source": [],
      "metadata": {
        "trusted": true,
        "id": "4yu_IB7WrXCa"
      },
      "outputs": [],
      "execution_count": null
    }
  ]
}